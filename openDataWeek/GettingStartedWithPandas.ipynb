{
  "nbformat": 4,
  "nbformat_minor": 0,
  "metadata": {
    "colab": {
      "name": "GettingStartedWithPandas.ipynb",
      "provenance": [],
      "authorship_tag": "ABX9TyOhy/SKok9LEbVIP8pNktER",
      "include_colab_link": true
    },
    "kernelspec": {
      "name": "python3",
      "display_name": "Python 3"
    },
    "language_info": {
      "name": "python"
    }
  },
  "cells": [
    {
      "cell_type": "markdown",
      "metadata": {
        "id": "view-in-github",
        "colab_type": "text"
      },
      "source": [
        "<a href=\"https://colab.research.google.com/github/stjohn/datasci/blob/main/openDataWeek/GettingStartedWithPandas.ipynb\" target=\"_parent\"><img src=\"https://colab.research.google.com/assets/colab-badge.svg\" alt=\"Open In Colab\"/></a>"
      ]
    },
    {
      "cell_type": "markdown",
      "source": [
        "## Reading Structured Data: Parking Tickets\n",
        "\n",
        "In this section, we will \n",
        "\n",
        "*  run Python in a notebook, which has code intermixed with explanation.\n",
        "*  explore the NYC OpenData data for parking tickets given in the city,\n",
        "*  in particular, who got the most for 20th District?\n",
        "and \n",
        "*  which color car gets the most?\n"
      ],
      "metadata": {
        "id": "_vFscggs8QaR"
      }
    },
    {
      "cell_type": "markdown",
      "source": [
        "### Running Commands:\n",
        "\n",
        "To get started, let's first execute a simple command that will print \"Hello World\" to the screen.  To run the command, click to the left side of the \"cell\" (it will appear as brackets or a \"Play\" symbol, depending on your system).  It may take a little bit of time to load, but you will see the message on the next line:"
      ],
      "metadata": {
        "id": "6PAZ5YxR9KCQ"
      }
    },
    {
      "cell_type": "code",
      "execution_count": 1,
      "metadata": {
        "colab": {
          "base_uri": "https://localhost:8080/"
        },
        "id": "1MXnLUHj791B",
        "outputId": "a385f8a9-3ecb-4cdf-a540-2c528e492a5d"
      },
      "outputs": [
        {
          "output_type": "stream",
          "name": "stdout",
          "text": [
            "Hello World\n"
          ]
        }
      ],
      "source": [
        "print(\"Hello World\")"
      ]
    },
    {
      "cell_type": "markdown",
      "source": [
        ""
      ],
      "metadata": {
        "id": "RfwWzY0j8MAq"
      }
    },
    {
      "cell_type": "markdown",
      "source": [
        ""
      ],
      "metadata": {
        "id": "7bHvHmBs8N0q"
      }
    }
  ]
}